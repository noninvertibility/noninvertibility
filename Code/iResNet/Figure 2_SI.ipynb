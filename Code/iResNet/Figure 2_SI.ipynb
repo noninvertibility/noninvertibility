{
 "cells": [
  {
   "cell_type": "code",
   "execution_count": null,
   "metadata": {},
   "outputs": [],
   "source": [
    "import numpy as np\n",
    "import matplotlib.pyplot as plt\n",
    "\n",
    "import warnings\n",
    "\n",
    "warnings.filterwarnings('ignore')\n",
    "\n",
    "%matplotlib inline"
   ]
  },
  {
   "cell_type": "code",
   "execution_count": null,
   "metadata": {},
   "outputs": [],
   "source": [
    "d4h10 = np.array([0.066822052, 0.184503555, 0.198436737, 0.215423584])\n",
    "d6h10 = np.array([0.202457428, 1.152561188, 1.694467545, 1.783229828])\n",
    "d8h10 = np.array([0.395936966, 97.99252701, 232.6817627, 869.7491646])\n",
    "d6h20 = np.array([0.499628067, 2.710752487, 226.0373497, 297.5769444])\n",
    "d6h50 = np.array([0.581445694, 3.17048645, 267.2847385, 660.7741032])\n",
    "\n",
    "r_array = np.array([5, 10, 15, 20])"
   ]
  },
  {
   "cell_type": "code",
   "execution_count": null,
   "metadata": {},
   "outputs": [],
   "source": [
    "fig, ax = plt.subplots(figsize=(12, 6), ncols=2)\n",
    "\n",
    "ax[0].plot(r_array, d4h10, label=r'$n_0=4, n_1=10$', color='orange')\n",
    "ax[0].plot(r_array, d6h10, label=r'$n_0=6, n_1=10$', color='red')\n",
    "ax[0].plot(r_array, d8h10, label=r'$n_0=8, n_1=10$', color='green')\n",
    "\n",
    "ax[0].scatter(r_array, d4h10, s=50, color='orange')\n",
    "ax[0].scatter(r_array, d6h10, s=50, color='red')\n",
    "ax[0].scatter(r_array, d8h10, s=50, color='green')\n",
    "\n",
    "ax[1].plot(r_array, d6h10, label=r'$n_0=6, n_1=10$', color='red')\n",
    "ax[1].plot(r_array, d6h20, label=r'$n_0=6, n_1=20$', color='blue')\n",
    "ax[1].plot(r_array, d6h50, label=r'$n_0=6, n_1=50$', color='purple')\n",
    "\n",
    "ax[1].scatter(r_array, d6h10, s=50, color='red')\n",
    "ax[1].scatter(r_array, d6h20, s=50, color='blue')\n",
    "ax[1].scatter(r_array, d6h50, s=50, color='purple')\n",
    "\n",
    "for i in range(2):\n",
    "    ax[i].set_ylim(0.05, 1500)\n",
    "    ax[i].set_yscale('log')\n",
    "    ax[i].set_xlabel('Radius', fontsize=24)\n",
    "    ax[i].legend(fontsize=16, loc='right')\n",
    "\n",
    "    ax[i].tick_params(axis='x', labelsize=16)\n",
    "    ax[i].tick_params(axis='y', labelsize=16)\n",
    "    \n",
    "    ax[i].grid()\n",
    "\n",
    "ax[1].set_yticklabels(['' for y in ax[1].get_yticks()])\n",
    "\n",
    "ax[0].set_ylabel('Time(s)', fontsize=24)\n",
    "    \n",
    "plt.tight_layout()\n",
    "\n",
    "# plt.savefig('runningtime.pdf', bbox_inches='tight')\n",
    "\n",
    "# plt.show()"
   ]
  },
  {
   "cell_type": "code",
   "execution_count": null,
   "metadata": {},
   "outputs": [],
   "source": []
  }
 ],
 "metadata": {
  "kernelspec": {
   "display_name": "Python 3",
   "language": "python",
   "name": "python3"
  },
  "language_info": {
   "codemirror_mode": {
    "name": "ipython",
    "version": 3
   },
   "file_extension": ".py",
   "mimetype": "text/x-python",
   "name": "python",
   "nbconvert_exporter": "python",
   "pygments_lexer": "ipython3",
   "version": "3.6.8"
  }
 },
 "nbformat": 4,
 "nbformat_minor": 2
}
