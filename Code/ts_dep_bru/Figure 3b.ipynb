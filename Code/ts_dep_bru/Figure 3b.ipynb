{
 "cells": [
  {
   "cell_type": "code",
   "execution_count": null,
   "metadata": {},
   "outputs": [],
   "source": [
    "import numpy as np\n",
    "import tensorflow as tf\n",
    "import matplotlib.pyplot as plt\n",
    "\n",
    "import warnings\n",
    "\n",
    "warnings.filterwarnings('ignore')\n",
    "\n",
    "%matplotlib inline"
   ]
  },
  {
   "cell_type": "code",
   "execution_count": null,
   "metadata": {},
   "outputs": [],
   "source": [
    "def read_network():\n",
    "    w1 = np.loadtxt('w1.txt')\n",
    "    w2 = np.loadtxt('w2.txt')\n",
    "    w3 = np.loadtxt('w3.txt')\n",
    "    b1 = np.loadtxt('b1.txt')\n",
    "    b2 = np.loadtxt('b2.txt')\n",
    "    b3 = np.loadtxt('b3.txt')\n",
    "    return w1, w2, w3, b1, b2, b3"
   ]
  },
  {
   "cell_type": "code",
   "execution_count": null,
   "metadata": {},
   "outputs": [],
   "source": [
    "w1, w2, w3, b1, b2, b3 = read_network()"
   ]
  },
  {
   "cell_type": "code",
   "execution_count": null,
   "metadata": {},
   "outputs": [],
   "source": [
    "def np2ten(arg):\n",
    "    arg = tf.convert_to_tensor(arg, dtype=tf.float64)\n",
    "    return arg"
   ]
  },
  {
   "cell_type": "code",
   "execution_count": null,
   "metadata": {},
   "outputs": [],
   "source": [
    "x = tf.placeholder(tf.float64, [None, 3], name='x')\n",
    "y_ = tf.placeholder(tf.float64, [None, 2], name='y_')\n",
    "\n",
    "w1 = np2ten(w1)\n",
    "w2 = np2ten(w2)\n",
    "w3 = np2ten(w3)\n",
    "b1 = np2ten(b1)\n",
    "b2 = np2ten(b2)\n",
    "b3 = np2ten(b3)\n",
    "\n",
    "l1 = tf.nn.relu(tf.matmul(x, w1) + b1)\n",
    "l2 = tf.nn.relu(tf.matmul(l1, w2) + b2)\n",
    "y = tf.matmul(l2, w3) + b3\n",
    "\n",
    "rows = [tf.gradients(y[:, i], x)[0] for i in range(int(y.shape[1]))]\n",
    "J2 = tf.stack(rows, axis=1)\n",
    "\n",
    "sess = tf.InteractiveSession()"
   ]
  },
  {
   "cell_type": "code",
   "execution_count": null,
   "metadata": {},
   "outputs": [],
   "source": [
    "def J0(tau):\n",
    "    N = 1501\n",
    "\n",
    "    x_grid = np.linspace(-5, 10, N)\n",
    "    y_grid = np.linspace(-5, 10, N)\n",
    "    x_grid, y_grid = np.meshgrid(x_grid, y_grid)\n",
    "\n",
    "    tau_array = np.ones_like(x_grid.ravel()) * tau\n",
    "\n",
    "    grid_ravel = np.vstack([x_grid.ravel(), y_grid.ravel(), tau_array]).T\n",
    "    grid_image = sess.run(y, feed_dict={x: grid_ravel})\n",
    "    jac = sess.run(J2, feed_dict={x: grid_ravel, y:grid_image})\n",
    "\n",
    "    jac = np.linalg.det(jac[:, :, :-1])\n",
    "    jac = jac.reshape((N, N))\n",
    "    \n",
    "    ind = np.where((jac[:, :-1] * jac[:, 1:]) < 0)\n",
    "    J0_x = x_grid[[ind[0], ind[1]]]\n",
    "    J0_y = y_grid[[ind[0], ind[1]]]\n",
    "    return np.array([J0_x, J0_y])"
   ]
  },
  {
   "cell_type": "code",
   "execution_count": null,
   "metadata": {},
   "outputs": [],
   "source": [
    "def J_curve0(x, tau, a=1, b=2):\n",
    "    y = (tau * (1 - tau) * x ** 2 + tau * (b + 1) - 1) / (2 * x * tau)\n",
    "    return y"
   ]
  },
  {
   "cell_type": "code",
   "execution_count": null,
   "metadata": {},
   "outputs": [],
   "source": [
    "tau_list = [0.01, 0.3]\n",
    "color_list = 'rk'\n",
    "fig, ax = plt.subplots(figsize=(12, 6), ncols=2)\n",
    "for i in range(len(tau_list)):\n",
    "    J0_points = J0(tau_list[i])\n",
    "    color = color_list[i]\n",
    "    ax[1].scatter(J0_points[0], J0_points[1], s=3, c=color, label=r'$\\tau = $ {:.2f}'.format(tau_list[i]))\n",
    "    \n",
    "    J0_x1 = np.linspace(-10, 0, 1000, endpoint=False)\n",
    "    J0_x2 = np.linspace(10, 0, 1000, endpoint=False)[::-1]\n",
    "\n",
    "    J0_y1 = J_curve0(J0_x1, tau=tau_list[i])\n",
    "    J0_y2 = J_curve0(J0_x2, tau=tau_list[i])\n",
    "    \n",
    "    ax[0].plot(J0_x1, J0_y1, color, label=r'$J_0(\\tau=$ {:.2f})'.format(tau_list[i]))\n",
    "    ax[0].plot(J0_x2, J0_y2, color)\n",
    "\n",
    "    \n",
    "    ax[i].set_xlim(-5, 10)\n",
    "    ax[i].set_ylim(-5, 10)\n",
    "    \n",
    "    ax[i].tick_params(axis='x', labelsize=16)\n",
    "    ax[0].tick_params(axis='y', labelsize=16)\n",
    "    \n",
    "    ax[1].set_yticklabels(['' for y in ax[1].get_yticks()])\n",
    "    \n",
    "    if not i:\n",
    "        ax[i].set_ylabel('$y$', fontsize=24)\n",
    "    \n",
    "    ax[i].set_xlabel('$x$', fontsize=24)\n",
    "    ax[0].legend(fontsize=16)\n",
    "    \n",
    "    ax[0].set_title('the Brusselator Integrator', fontsize=20)\n",
    "    ax[1].set_title('the Brusselator Network', fontsize=20)\n",
    "    \n",
    "plt.tight_layout()\n",
    "\n",
    "# plt.savefig('ts_j0.pdf', bbox_inches='tight')"
   ]
  },
  {
   "cell_type": "code",
   "execution_count": null,
   "metadata": {},
   "outputs": [],
   "source": []
  }
 ],
 "metadata": {
  "kernelspec": {
   "display_name": "Python 3",
   "language": "python",
   "name": "python3"
  },
  "language_info": {
   "codemirror_mode": {
    "name": "ipython",
    "version": 3
   },
   "file_extension": ".py",
   "mimetype": "text/x-python",
   "name": "python",
   "nbconvert_exporter": "python",
   "pygments_lexer": "ipython3",
   "version": "3.6.8"
  }
 },
 "nbformat": 4,
 "nbformat_minor": 2
}
