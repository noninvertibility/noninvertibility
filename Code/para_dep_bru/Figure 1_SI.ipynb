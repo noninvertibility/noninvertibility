{
 "cells": [
  {
   "cell_type": "code",
   "execution_count": null,
   "metadata": {},
   "outputs": [],
   "source": [
    "import numpy as np\n",
    "import pandas as pd\n",
    "import tensorflow as tf\n",
    "import matplotlib.pyplot as plt\n",
    "\n",
    "import warnings\n",
    "\n",
    "warnings.filterwarnings('ignore')\n",
    "\n",
    "%matplotlib inline"
   ]
  },
  {
   "cell_type": "code",
   "execution_count": null,
   "metadata": {},
   "outputs": [],
   "source": [
    "def read_network():\n",
    "    w1 = np.loadtxt('w1.txt')\n",
    "    w2 = np.loadtxt('w2.txt')\n",
    "    w3 = np.loadtxt('w3.txt')\n",
    "    b1 = np.loadtxt('b1.txt')\n",
    "    b2 = np.loadtxt('b2.txt')\n",
    "    b3 = np.loadtxt('b3.txt')\n",
    "    return w1, w2, w3, b1, b2, b3"
   ]
  },
  {
   "cell_type": "code",
   "execution_count": null,
   "metadata": {},
   "outputs": [],
   "source": [
    "def read_data():\n",
    "    state = np.loadtxt('state.txt')\n",
    "    preimage = np.loadtxt('preimage.txt')\n",
    "    meshgrid_x = np.loadtxt('meshgrid_x.txt')\n",
    "    meshgrid_y = np.loadtxt('meshgrid_y.txt')\n",
    "    Jac_det = np.loadtxt('Jac_det.txt')\n",
    "    return state, preimage, meshgrid_x, meshgrid_y, Jac_det"
   ]
  },
  {
   "cell_type": "code",
   "execution_count": null,
   "metadata": {},
   "outputs": [],
   "source": [
    "w1, w2, w3, b1, b2, b3 = read_network()\n",
    "\n",
    "images, preimages, meshgrid_x, meshgrid_y, Jac = read_data()"
   ]
  },
  {
   "cell_type": "code",
   "execution_count": null,
   "metadata": {},
   "outputs": [],
   "source": [
    "data = pd.read_csv('inv.csv')\n",
    "data = data.values\n",
    "\n",
    "ind = np.where((Jac[:, :-1] * Jac[:, 1:]) < 0)\n",
    "J0_x = meshgrid_x[[ind[0], ind[1]]]\n",
    "J0_y = meshgrid_y[[ind[0], ind[1]]]\n",
    "\n",
    "fig, ax = plt.subplots(figsize=(12, 12))\n",
    "\n",
    "ax.scatter(images[:, 0], images[:, 1], color='orange', s=50, alpha=0.7, zorder=99, label='Attractor')\n",
    "ax.scatter(preimages[:, 0], preimages[:, 1], s=20, color='blue', alpha=0.7, label='Inverses')\n",
    "ax.scatter(J0_x, J0_y, s=20, color='r', alpha=0.7, label=r'$J_0$')\n",
    "\n",
    "ax.text(-30, 22, 'I', fontsize=20, color='k',transform=ax.transData)\n",
    "ax.text(-10, 13, 'II', fontsize=20, color='k',transform=ax.transData)\n",
    "ax.text(0, 0, 'III', fontsize=20, color='k',transform=ax.transData)\n",
    "ax.text(5, -1, 'IV', fontsize=20, color='k',transform=ax.transData)\n",
    "ax.text(8, -6, 'V', fontsize=20, color='k',transform=ax.transData)\n",
    "\n",
    "ax.legend(fontsize=16)\n",
    "\n",
    "ax.set_xlabel('$x$', fontsize=24)\n",
    "ax.set_ylabel('$y$', fontsize=24)\n",
    "\n",
    "ax.tick_params(axis='x', labelsize=16)\n",
    "ax.tick_params(axis='y', labelsize=16)\n",
    "ax.set_xlim(meshgrid_x.min(), meshgrid_x.max())\n",
    "ax.set_ylim(meshgrid_y.min(), meshgrid_y.max())\n",
    "\n",
    "axins = ax.inset_axes([-30, -10, 15, 15], transform=ax.transData)\n",
    "axins.plot(data[:38, 2], data[:38, 3], color='yellow', linewidth=4, label='$A$')\n",
    "axins.plot(data[38:43, 2], data[38:43, 3], color='green', linewidth=4, label='$B_1$')\n",
    "axins.plot(data[47:50, 2], data[47:50, 3], color='green', linestyle='dotted', linewidth=4, label='$B_2$')\n",
    "axins.plot(data[43:47, 2], data[43:47, 3], color='cyan', linewidth=4, label='$C$')\n",
    "axins.plot(data[50:-1, 2], data[50:-1, 3], color='yellow', linewidth=4)\n",
    "axins.legend()\n",
    "\n",
    "x1, x2, y1, y2 = 0.3, 2.3, 1, 3\n",
    "axins.set_xlim(x1, x2)\n",
    "axins.set_ylim(y1, y2)\n",
    "axins.set_xticklabels('')\n",
    "axins.set_yticklabels('')\n",
    "\n",
    "ax.indicate_inset_zoom(axins, alpha=0.9)\n",
    "\n",
    "plt.tight_layout()\n",
    "\n",
    "# plt.savefig('Scheme.pdf', bbox_inches='tight')\n",
    "\n",
    "# plt.show()"
   ]
  },
  {
   "cell_type": "code",
   "execution_count": null,
   "metadata": {},
   "outputs": [],
   "source": [
    "fig, ax = plt.subplots(figsize=(12, 12))\n",
    "im = ax.imshow(Jac.astype(float), origin='lower',\n",
    "               extent=(meshgrid_x.min(), meshgrid_x.max(), meshgrid_y.min(), meshgrid_y.max()),\n",
    "               cmap=plt.get_cmap('rainbow'))\n",
    "\n",
    "cb = fig.colorbar(im, ax=ax, shrink=0.65)\n",
    "cb.set_label('Determinant of Jacobian', size=20)\n",
    "cb.ax.tick_params(labelsize=20) \n",
    "\n",
    "ax.text(-30, 22, 'I', fontsize=20, color='k',transform=ax.transData)\n",
    "ax.text(-10, 13, 'II', fontsize=20, color='k',transform=ax.transData)\n",
    "ax.text(0, 0, 'III', fontsize=20, color='k',transform=ax.transData)\n",
    "ax.text(5, -1, 'IV', fontsize=20, color='k',transform=ax.transData)\n",
    "ax.text(8, -6, 'V', fontsize=20, color='k',transform=ax.transData)\n",
    "\n",
    "ax.set_xlabel('$x$', fontsize=24)\n",
    "ax.set_ylabel('$y$', fontsize=24)\n",
    "\n",
    "ax.tick_params(axis='x', labelsize=16)\n",
    "ax.tick_params(axis='y', labelsize=16)\n",
    "ax.set_xlim(meshgrid_x.min(), meshgrid_x.max())\n",
    "ax.set_ylim(meshgrid_y.min(), meshgrid_y.max())\n",
    "\n",
    "plt.tight_layout()\n",
    "\n",
    "# plt.savefig('det.pdf', bbox_inches='tight')"
   ]
  }
 ],
 "metadata": {
  "kernelspec": {
   "display_name": "Python 3",
   "language": "python",
   "name": "python3"
  },
  "language_info": {
   "codemirror_mode": {
    "name": "ipython",
    "version": 3
   },
   "file_extension": ".py",
   "mimetype": "text/x-python",
   "name": "python",
   "nbconvert_exporter": "python",
   "pygments_lexer": "ipython3",
   "version": "3.6.8"
  }
 },
 "nbformat": 4,
 "nbformat_minor": 2
}
