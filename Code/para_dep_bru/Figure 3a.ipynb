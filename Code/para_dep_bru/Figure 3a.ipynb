{
 "cells": [
  {
   "cell_type": "code",
   "execution_count": null,
   "metadata": {},
   "outputs": [],
   "source": [
    "import numpy as np\n",
    "import tensorflow as tf\n",
    "import matplotlib.pyplot as plt\n",
    "\n",
    "from matplotlib import patches\n",
    "\n",
    "import warnings\n",
    "\n",
    "warnings.filterwarnings('ignore')\n",
    "\n",
    "%matplotlib inline"
   ]
  },
  {
   "cell_type": "code",
   "execution_count": null,
   "metadata": {},
   "outputs": [],
   "source": [
    "default_b = 2.1\n",
    "default_a = 1"
   ]
  },
  {
   "cell_type": "code",
   "execution_count": null,
   "metadata": {},
   "outputs": [],
   "source": [
    "def read_network():\n",
    "    w1 = np.loadtxt('w1.txt')\n",
    "    w2 = np.loadtxt('w2.txt')\n",
    "    w3 = np.loadtxt('w3.txt')\n",
    "    b1 = np.loadtxt('b1.txt')\n",
    "    b2 = np.loadtxt('b2.txt')\n",
    "    b3 = np.loadtxt('b3.txt')\n",
    "    return w1, w2, w3, b1, b2, b3"
   ]
  },
  {
   "cell_type": "code",
   "execution_count": null,
   "metadata": {},
   "outputs": [],
   "source": [
    "w1, w2, w3, b1, b2, b3 = read_network()"
   ]
  },
  {
   "cell_type": "code",
   "execution_count": null,
   "metadata": {},
   "outputs": [],
   "source": [
    "state = np.loadtxt('state.txt')"
   ]
  },
  {
   "cell_type": "code",
   "execution_count": null,
   "metadata": {},
   "outputs": [],
   "source": [
    "def np2ten(arg):\n",
    "    arg = tf.convert_to_tensor(arg, dtype=tf.float64)\n",
    "    return arg"
   ]
  },
  {
   "cell_type": "code",
   "execution_count": null,
   "metadata": {},
   "outputs": [],
   "source": [
    "x = tf.placeholder(tf.float64, [None, 3], name='x')\n",
    "y_ = tf.placeholder(tf.float64, [None, 2], name='y_')\n",
    "\n",
    "w1 = np2ten(w1)\n",
    "w2 = np2ten(w2)\n",
    "w3 = np2ten(w3)\n",
    "b1 = np2ten(b1)\n",
    "b2 = np2ten(b2)\n",
    "b3 = np2ten(b3)\n",
    "\n",
    "l1 = tf.nn.relu(tf.matmul(x, w1) + b1)\n",
    "l2 = tf.nn.relu(tf.matmul(l1, w2) + b2)\n",
    "y = tf.matmul(l2, w3) + b3\n",
    "\n",
    "rows = [tf.gradients(y[:, i], x)[0] for i in range(int(y.shape[1]))]\n",
    "J2 = tf.stack(rows, axis=1)\n",
    "\n",
    "sess = tf.InteractiveSession()"
   ]
  },
  {
   "cell_type": "code",
   "execution_count": null,
   "metadata": {},
   "outputs": [],
   "source": [
    "def brusselator_approx(x_array, b=default_b):\n",
    "    x_array = np.asarray(x_array).reshape((-1, 2))\n",
    "    b = np.ones([len(x_array), 1]) * b\n",
    "    x_array = np.hstack([x_array, b])\n",
    "    return sess.run(y, feed_dict={x: x_array})"
   ]
  },
  {
   "cell_type": "code",
   "execution_count": null,
   "metadata": {},
   "outputs": [],
   "source": [
    "def J0(b):\n",
    "\n",
    "    N = 1501\n",
    "    x_grid = np.linspace(-5, 10, N)\n",
    "    y_grid = np.linspace(-5, 10, N)\n",
    "    x_grid, y_grid = np.meshgrid(x_grid, y_grid)\n",
    "\n",
    "    b_array = np.ones_like(x_grid.ravel()) * b\n",
    "\n",
    "    grid_ravel = np.vstack([x_grid.ravel(), y_grid.ravel(), b_array]).T\n",
    "    grid_image = sess.run(y, feed_dict={x: grid_ravel})\n",
    "    jac = sess.run(J2, feed_dict={x: grid_ravel, y:grid_image})\n",
    "\n",
    "    jac = np.linalg.det(jac[:, :, :-1])\n",
    "    jac = jac.reshape((N, N))\n",
    "    \n",
    "    ind = np.where((jac[:, :-1] * jac[:, 1:]) < 0)\n",
    "    J0_x = x_grid[[ind[0], ind[1]]]\n",
    "    J0_y = y_grid[[ind[0], ind[1]]]\n",
    "    return np.array([J0_x, J0_y])"
   ]
  },
  {
   "cell_type": "code",
   "execution_count": null,
   "metadata": {},
   "outputs": [],
   "source": [
    "J0_points = J0(default_b)"
   ]
  },
  {
   "cell_type": "code",
   "execution_count": null,
   "metadata": {},
   "outputs": [],
   "source": [
    "points = np.array([[1.96433, 1.24951],\n",
    "                   [0.666201, 1.99221]])"
   ]
  },
  {
   "cell_type": "code",
   "execution_count": null,
   "metadata": {},
   "outputs": [],
   "source": [
    "r = [0.655344127938151, 1.18737691940507]\n",
    "R = [2.77382102844230, 4.23615564741905]\n",
    "\n",
    "invs = np.array([[4.73825188, -1.10571284], \n",
    "                 [8.83688484, -4.29014662],\n",
    "                 [-3.56999818, 5.46926724], \n",
    "                 [-25.79530631, 21.67496866]])"
   ]
  },
  {
   "cell_type": "code",
   "execution_count": null,
   "metadata": {},
   "outputs": [],
   "source": [
    "fig, ax = plt.subplots(figsize=(12, 6), ncols=2)\n",
    "for i in range(2):\n",
    "    ax[i].scatter(J0_points[0], J0_points[1], s=5, label=r'$J_0$', color='red')\n",
    "    \n",
    "    ax[i].scatter(*state.T, color='orange', label='Attractor')\n",
    "    \n",
    "    ax[i].scatter(*brusselator_approx(points[i]).ravel(), marker='^',s=100, color='black', label='Image')\n",
    "    \n",
    "    ax[i].scatter(*points[i].ravel(), marker='+',s=100, color='blue', label='Inverses', zorder=99)\n",
    "    \n",
    "    ax[i].scatter(*invs[2 * i].ravel(), marker='+',s=100, color='blue', zorder=99)\n",
    "    ax[i].scatter(*invs[2 * i + 1].ravel(), marker='+',s=100, color='blue', zorder=99)\n",
    "    \n",
    "    square1 = patches.Rectangle((points[i, 0] - r[i], points[i, 1] - r[i]), 2 * r[i], 2 * r[i], fill=False, edgecolor='k')\n",
    "    ax[i].add_patch(square1)\n",
    "    \n",
    "    square2 = patches.Rectangle((points[i, 0] - R[i], points[i, 1] - R[i]), 2 * R[i], 2 * R[i], fill=False, edgecolor='k')\n",
    "    ax[i].add_patch(square2)\n",
    "   \n",
    "    ax[i].set_xlim(-5, 10)\n",
    "    ax[i].set_ylim(-5, 10)\n",
    "    \n",
    "    ax[i].tick_params(axis='x', labelsize=16)\n",
    "    ax[0].tick_params(axis='y', labelsize=16)\n",
    "    \n",
    "    ax[1].set_yticklabels(['' for y in ax[1].get_yticks()])\n",
    "    \n",
    "    if not i:\n",
    "        ax[i].set_ylabel('$y$', fontsize=24)\n",
    "    \n",
    "    ax[i].set_xlabel('$x$', fontsize=24)\n",
    "    ax[0].legend(fontsize=16)\n",
    "\n",
    "plt.tight_layout()\n",
    "\n",
    "# plt.savefig('2d_point.pdf', bbox_inches='tight')\n",
    "\n",
    "# plt.show()"
   ]
  },
  {
   "cell_type": "code",
   "execution_count": null,
   "metadata": {},
   "outputs": [],
   "source": []
  }
 ],
 "metadata": {
  "kernelspec": {
   "display_name": "Python 3",
   "language": "python",
   "name": "python3"
  },
  "language_info": {
   "codemirror_mode": {
    "name": "ipython",
    "version": 3
   },
   "file_extension": ".py",
   "mimetype": "text/x-python",
   "name": "python",
   "nbconvert_exporter": "python",
   "pygments_lexer": "ipython3",
   "version": "3.6.8"
  }
 },
 "nbformat": 4,
 "nbformat_minor": 2
}
