{
 "cells": [
  {
   "cell_type": "code",
   "execution_count": null,
   "metadata": {
    "scrolled": true
   },
   "outputs": [],
   "source": [
    "import numpy as np\n",
    "import matplotlib.pyplot as plt\n",
    "\n",
    "from tqdm import tqdm_notebook\n",
    "from scipy.optimize import root\n",
    "\n",
    "import warnings\n",
    "\n",
    "warnings.filterwarnings('ignore')\n",
    "\n",
    "%matplotlib inline"
   ]
  },
  {
   "cell_type": "code",
   "execution_count": null,
   "metadata": {},
   "outputs": [],
   "source": [
    "default_tau = 0.15\n",
    "default_std = 2\n",
    "default_a = 1\n",
    "default_b = 2"
   ]
  },
  {
   "cell_type": "code",
   "execution_count": null,
   "metadata": {},
   "outputs": [],
   "source": [
    "def brusselator_euler(x, tau=default_tau, a=default_a, b=default_b):\n",
    "    x_n = x[0] + tau * (x[0] ** 2 * x[1] - (b + 1) * x[0] + a)\n",
    "    y_n = x[1] + tau * (-x[0] ** 2 * x[1] + b * x[0])\n",
    "    return np.array([x_n, y_n])"
   ]
  },
  {
   "cell_type": "code",
   "execution_count": null,
   "metadata": {},
   "outputs": [],
   "source": [
    "def get_initial(a=default_a, b=default_b, std=default_std):\n",
    "    mean = a, b/a\n",
    "    return [np.random.normal(mean[0], std), np.random.normal(mean[1], std)]"
   ]
  },
  {
   "cell_type": "code",
   "execution_count": null,
   "metadata": {},
   "outputs": [],
   "source": [
    "def gen_states(tau=default_tau, iter_step=3000, a=default_a, b=default_b, std=default_std):\n",
    "    initial = get_initial(a=a, b=b, std=std)\n",
    "    states = [initial]\n",
    "    for i in range(iter_step):\n",
    "        state = brusselator_euler(x=states[-1], tau=tau, a=a, b=b)\n",
    "        states.append(state)\n",
    "    states = np.array(states)\n",
    "    return states"
   ]
  },
  {
   "cell_type": "code",
   "execution_count": null,
   "metadata": {},
   "outputs": [],
   "source": [
    "def gen_states_true(tau=default_tau, iter_step=3000, a=default_a, b=default_b, std=default_std, max_allowed_step_size=1):\n",
    "    states = gen_states(tau=tau, iter_step=iter_step, a=a, b=b, std=std)\n",
    "    \n",
    "    def check_bad(states):\n",
    "        steps = np.diff(states, axis=0)\n",
    "        return np.isnan(states).any()\n",
    "    while check_bad(states):\n",
    "        states = gen_states(tau=tau, iter_step=iter_step, a=a, b=b, std=std)\n",
    "    return states"
   ]
  },
  {
   "cell_type": "code",
   "execution_count": null,
   "metadata": {},
   "outputs": [],
   "source": [
    "def J_curve0(x, tau=default_tau, a=default_a, b=default_b):\n",
    "    y = (tau * (1 - tau) * x ** 2 + tau * (b + 1) - 1) / (2 * x * tau)\n",
    "    return y"
   ]
  },
  {
   "cell_type": "code",
   "execution_count": null,
   "metadata": {},
   "outputs": [],
   "source": [
    "def analytical_preimages(states, tau=default_tau, a=default_a, b=default_b):\n",
    "    x_n, y_n = states[:, 0], states[:, 1]\n",
    "    A = tau - tau ** 2\n",
    "    B = tau ** 2 - tau * x_n - tau * y_n\n",
    "    C = tau * b + tau - 1\n",
    "    D = x_n - tau * a\n",
    "    preimages = []\n",
    "    for i in range(states.shape[0]):\n",
    "        x_pre = np.sort(np.roots([A, B[i], C, D[i]]))\n",
    "        if np.abs(x_pre[1] - x_n[i]) > np.abs(x_pre[2] - x_n[i]):\n",
    "            x_pre = x_pre[[0, 2, 1]]\n",
    "        y_pre = (x_n[i] - x_pre + (b + 1) * tau * x_pre - tau * a) / (tau * x_pre ** 2)\n",
    "        pre = np.vstack([x_pre, y_pre])\n",
    "        preimages.append(pre)\n",
    "    return np.array(preimages)"
   ]
  },
  {
   "cell_type": "code",
   "execution_count": null,
   "metadata": {},
   "outputs": [],
   "source": [
    "fig, ax = plt.subplots(figsize=(12, 12), ncols=2, nrows=2)\n",
    "b = [2, 2.5, 3, 3.2]\n",
    "for i in range(2):\n",
    "    for j in range(2):\n",
    "        indice_b = 2 * i + j\n",
    "        states = gen_states_true(b=b[indice_b])\n",
    "        states = states[-1000:, :]\n",
    "        J0_x1 = np.linspace(-10, 0, 10000, endpoint=False)\n",
    "        J0_x2 = np.linspace(10, 0, 10000, endpoint=False)[::-1]\n",
    "\n",
    "        J0_y1 = J_curve0(J0_x1, b=b[indice_b])\n",
    "        J0_y2 = J_curve0(J0_x2, b=b[indice_b])\n",
    "\n",
    "        preimages = analytical_preimages(states, b=b[indice_b])\n",
    "\n",
    "        ax[i, j].scatter(J0_x1, J0_y1, color='red', alpha=0.5, label=r'$J_0$', s=10, zorder=99)\n",
    "        ax[i, j].scatter(J0_x2, J0_y2, color='red', alpha=0.5, s=10, zorder=99)\n",
    "\n",
    "        ax[i, j].scatter(states[:-1, 0], states[:-1, 1], alpha=0.7, color='orange', label=r'$\\Gamma$, $F^{-1}(\\Gamma)$', s=10, zorder=99)\n",
    "        pre1, pre2, pre3 = preimages[:, :, 0], preimages[:, :, 1], preimages[:, :, 2]\n",
    "        real_1 = np.logical_and(*np.isreal(pre1).T)\n",
    "        real_2 = np.logical_and(*np.isreal(pre2).T)\n",
    "        real_3 = np.logical_and(*np.isreal(pre3).T)\n",
    "        all_real = np.logical_and(np.logical_and(real_1, real_2), real_3)\n",
    "        ax[i, j].scatter(pre3[all_real, 0], pre3[all_real, 1], alpha=0.7, color='green',label=r'$F^{-1}(\\Gamma)^{\\prime}$', s=10, zorder=50)\n",
    "        ax[i, j].scatter(pre1[all_real, 0], pre1[all_real, 1], alpha=0.7, color='purple',label=r'$F^{-1}(\\Gamma)^{\\prime \\prime}$', s=10, zorder=50)\n",
    "\n",
    "        if not i and not j:\n",
    "            ax[i, j].legend(fontsize=16)\n",
    "\n",
    "        ax[i, 0].set_ylabel('$y$')\n",
    "        ax[0, j].set_xlabel('$x$')\n",
    "\n",
    "        ax[i, j].set_xlim(-5, 10)\n",
    "        ax[i, j].set_ylim(-5, 10)\n",
    "        ax[i, j].set_title(r'$(a, b) = $ {}'.format((1, b[indice_b])), fontsize=20)\n",
    "\n",
    "        ax[i, j].set_xticklabels(['' for x in ax[i, j].get_xticks()])\n",
    "        ax[i, j].set_yticklabels(['' for y in ax[i, j].get_yticks()])\n",
    "\n",
    "plt.tight_layout()\n",
    "\n",
    "# plt.savefig('inv.pdf', bbox_inches='tight')"
   ]
  }
 ],
 "metadata": {
  "kernelspec": {
   "display_name": "Python 3",
   "language": "python",
   "name": "python3"
  },
  "language_info": {
   "codemirror_mode": {
    "name": "ipython",
    "version": 3
   },
   "file_extension": ".py",
   "mimetype": "text/x-python",
   "name": "python",
   "nbconvert_exporter": "python",
   "pygments_lexer": "ipython3",
   "version": "3.6.8"
  }
 },
 "nbformat": 4,
 "nbformat_minor": 2
}
